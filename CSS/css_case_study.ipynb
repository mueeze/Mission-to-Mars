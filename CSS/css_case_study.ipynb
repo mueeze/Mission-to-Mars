{
 "cells": [
  {
   "cell_type": "code",
   "execution_count": 1,
   "id": "22a07b4c",
   "metadata": {},
   "outputs": [],
   "source": [
    "from bs4 import BeautifulSoup as soup"
   ]
  },
  {
   "cell_type": "code",
   "execution_count": 2,
   "id": "af098ccd",
   "metadata": {},
   "outputs": [],
   "source": [
    "html = \"\"\"\n",
    "<!DOCTYPE html>\n",
    "<html lang=\"en\">\n",
    "\n",
    "<head>\n",
    "    <meta charset=\"UTF-8\">\n",
    "    <meta http-equiv=\"X-UA-Compatible\" content=\"IE=edge\">\n",
    "    <meta name=\"viewport\" content=\"width=device-width, initial-scale=1.0\">\n",
    "    <title>Document</title>\n",
    "</head>\n",
    "\n",
    "<style>\n",
    "    .even {\n",
    "        color: blue;\n",
    "    }\n",
    "\n",
    "    .odd {\n",
    "        color: green;\n",
    "    }\n",
    "</style>\n",
    "\n",
    "<body>\n",
    "    <div>\n",
    "        <p class=\"odd\" id=\"first\">First</p>\n",
    "        <p class=\"even\" id=\"second\">Second</p>\n",
    "        <p class=\"odd\" id=\"third\">Third</p>\n",
    "    </div>\n",
    "\n",
    "    <div>\n",
    "        <p class=\"even\" id=\"fourth\">Fourth</p>\n",
    "        <p class=\"odd\" id=\"fifth\">Fifth</p>\n",
    "        <p class=\"even\" id=\"sixth\">Sixth</p>\n",
    "    </div>\n",
    "</body>\n",
    "\n",
    "</html>\n",
    "\"\"\""
   ]
  },
  {
   "cell_type": "code",
   "execution_count": 3,
   "id": "2bb6d678",
   "metadata": {},
   "outputs": [],
   "source": [
    "html_soup = soup(html, \"html.parser\")"
   ]
  },
  {
   "cell_type": "code",
   "execution_count": 12,
   "id": "ac16d661",
   "metadata": {},
   "outputs": [
    {
     "name": "stdout",
     "output_type": "stream",
     "text": [
      "<p class=\"odd\" id=\"first\">First</p>\n",
      "<p class=\"odd\" id=\"third\">Third</p>\n",
      "<p class=\"odd\" id=\"fifth\">Fifth</p>\n"
     ]
    }
   ],
   "source": [
    "odds = html_soup.find_all(\"p\", class_=\"odd\")\n",
    "for odd in odds:\n",
    "    #print(odd)\n",
    "    print(odd.text)"
   ]
  },
  {
   "cell_type": "code",
   "execution_count": 20,
   "id": "4f3b3cf8",
   "metadata": {},
   "outputs": [
    {
     "name": "stdout",
     "output_type": "stream",
     "text": [
      "Second\n",
      "Fourth\n",
      "Sixth\n"
     ]
    }
   ],
   "source": [
    "evens = html_soup.find_all(\"p\", class_=\"even\")\n",
    "for even in evens:\n",
    "    #print(even)\n",
    "    print(even.text)"
   ]
  },
  {
   "cell_type": "code",
   "execution_count": 21,
   "id": "79ae581b",
   "metadata": {},
   "outputs": [
    {
     "name": "stdout",
     "output_type": "stream",
     "text": [
      "First\n"
     ]
    }
   ],
   "source": [
    "first = html_soup.find(\"p\", id=\"first\")\n",
    "print(first.text)"
   ]
  },
  {
   "cell_type": "code",
   "execution_count": null,
   "id": "ffaf7830",
   "metadata": {},
   "outputs": [],
   "source": []
  }
 ],
 "metadata": {
  "kernelspec": {
   "display_name": "Python 3 (ipykernel)",
   "language": "python",
   "name": "python3"
  },
  "language_info": {
   "codemirror_mode": {
    "name": "ipython",
    "version": 3
   },
   "file_extension": ".py",
   "mimetype": "text/x-python",
   "name": "python",
   "nbconvert_exporter": "python",
   "pygments_lexer": "ipython3",
   "version": "3.9.15"
  }
 },
 "nbformat": 4,
 "nbformat_minor": 5
}
